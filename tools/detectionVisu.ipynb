{
 "cells": [
  {
   "cell_type": "code",
   "execution_count": 404,
   "metadata": {},
   "outputs": [],
   "source": [
    "%matplotlib inline\n",
    "from pycocotools.coco import COCO\n",
    "import numpy as np\n",
    "import skimage.io as io\n",
    "import matplotlib.pyplot as plt\n",
    "import pylab\n",
    "import utils.boxes as box_utils\n",
    "from matplotlib.collections import PatchCollection\n",
    "import matplotlib.patches as patches\n",
    "import glob\n",
    "import scipy.io as sio\n",
    "import time\n",
    "import pylab as pl\n",
    "from IPython import display\n",
    "\n",
    "pylab.rcParams['figure.figsize'] = (8.0, 10.0)"
   ]
  },
  {
   "cell_type": "code",
   "execution_count": 426,
   "metadata": {},
   "outputs": [
    {
     "name": "stdout",
     "output_type": "stream",
     "text": [
      "loading annotations into memory...\n",
      "Done (t=0.01s)\n",
      "creating index...\n",
      "index created!\n"
     ]
    }
   ],
   "source": [
    "dataDir='../lib/datasets/data/ucf101'\n",
    "#dataDir='../lib/datasets/data/daly'\n",
    "\n",
    "# get on ann file to get classes\n",
    "annFile='../lib/datasets/data/ucf101/detection/instances_val1_ucf101_keyframes1.json'\n",
    "\n",
    "detPath = '../'\n",
    "vidName = 'v_Diving_g01_c01' # 'v_Diving_g06_c07' # 'v_BasketballDunk_g01_c01' # 'v_Diving_g01_c01'\n",
    "det_th = 0.2\n",
    "\n",
    "dets = glob.glob(detPath + '/'+ vidName + '/*.mat')\n",
    "dets.sort()\n",
    "\n",
    "coco=COCO(annFile)\n",
    "cats = coco.loadCats(coco.getCatIds())"
   ]
  },
  {
   "cell_type": "code",
   "execution_count": 427,
   "metadata": {},
   "outputs": [
    {
     "ename": "IndexError",
     "evalue": "list index out of range",
     "output_type": "error",
     "traceback": [
      "\u001b[0;31m---------------------------------------------------------------------------\u001b[0m",
      "\u001b[0;31mIndexError\u001b[0m                                Traceback (most recent call last)",
      "\u001b[0;32m<ipython-input-427-3d2e06db7836>\u001b[0m in \u001b[0;36m<module>\u001b[0;34m()\u001b[0m\n\u001b[1;32m      7\u001b[0m     \u001b[0mrndIdx\u001b[0m \u001b[0;34m=\u001b[0m \u001b[0mi\u001b[0m\u001b[0;34m\u001b[0m\u001b[0m\n\u001b[1;32m      8\u001b[0m     \u001b[0mimname\u001b[0m \u001b[0;34m=\u001b[0m \u001b[0;34m'%s/image-%05d.jpg'\u001b[0m \u001b[0;34m%\u001b[0m \u001b[0;34m(\u001b[0m\u001b[0mvidName\u001b[0m\u001b[0;34m,\u001b[0m \u001b[0mrndIdx\u001b[0m\u001b[0;34m+\u001b[0m\u001b[0;36m1\u001b[0m\u001b[0;34m)\u001b[0m\u001b[0;34m\u001b[0m\u001b[0m\n\u001b[0;32m----> 9\u001b[0;31m     \u001b[0mdet\u001b[0m \u001b[0;34m=\u001b[0m \u001b[0msio\u001b[0m\u001b[0;34m.\u001b[0m\u001b[0mloadmat\u001b[0m\u001b[0;34m(\u001b[0m\u001b[0mdets\u001b[0m\u001b[0;34m[\u001b[0m\u001b[0mrndIdx\u001b[0m\u001b[0;34m]\u001b[0m\u001b[0;34m)\u001b[0m\u001b[0;34m\u001b[0m\u001b[0m\n\u001b[0m\u001b[1;32m     10\u001b[0m     \u001b[0;31m# load and display image\u001b[0m\u001b[0;34m\u001b[0m\u001b[0;34m\u001b[0m\u001b[0m\n\u001b[1;32m     11\u001b[0m     \u001b[0mI\u001b[0m \u001b[0;34m=\u001b[0m \u001b[0mio\u001b[0m\u001b[0;34m.\u001b[0m\u001b[0mimread\u001b[0m\u001b[0;34m(\u001b[0m\u001b[0mdataDir\u001b[0m \u001b[0;34m+\u001b[0m \u001b[0;34m'/images/'\u001b[0m\u001b[0;34m+\u001b[0m \u001b[0mimname\u001b[0m\u001b[0;34m)\u001b[0m\u001b[0;34m\u001b[0m\u001b[0m\n",
      "\u001b[0;31mIndexError\u001b[0m: list index out of range"
     ]
    },
    {
     "data": {
      "image/png": "[encoded data removed]",
      "text/plain": [
       "<Figure size 576x720 with 1 Axes>"
      ]
     },
     "metadata": {},
     "output_type": "display_data"
    }
   ],
   "source": [
    "rndIdx = np.random.randint(0,len(dets))\n",
    "\n",
    "\n",
    "fig, ax = plt.subplots()\n",
    "for i in range(10000):\n",
    "    ax.cla()\n",
    "    rndIdx = i\n",
    "    imname = '%s/image-%05d.jpg' % (vidName, rndIdx+1)\n",
    "    det = sio.loadmat(dets[rndIdx])\n",
    "    # load and display image\n",
    "    I = io.imread(dataDir + '/images/'+ imname)\n",
    "\n",
    "\n",
    "    # load and display instance annotations\n",
    "    ax.imshow(I); plt.axis('off')\n",
    "\n",
    "    polygons = []\n",
    "    color = []\n",
    "    ax.set_autoscale_on(False)\n",
    "    for c, cat in enumerate(cats):\n",
    "        if det['boxes_cell'].size == 0:\n",
    "            continue\n",
    "        cdet = det['boxes_cell'][0][c]\n",
    "        for d in cdet:\n",
    "            x1, y1, x2, y2, sc = d\n",
    "            w = x2 - x1 + 1\n",
    "            h = y2 - y1 + 1\n",
    "            if sc > det_th:\n",
    "                #print cat\n",
    "                polygons.append(patches.Rectangle((x1,y1),w,h,linewidth=1,edgecolor='r',facecolor='none'))\n",
    "                color.append((np.random.random((1, 3))*0.6+0.4).tolist()[0])\n",
    "    p = PatchCollection(polygons, facecolor=color, linewidths=0, alpha=0.4)\n",
    "    \n",
    "\n",
    "    ax.add_collection(p);\n",
    "    display.display(plt.gcf())\n",
    "    display.clear_output(wait=True)\n",
    "    #display.clear_output(wait=False)\n",
    "    #time.sleep(0.05)\n",
    "    "
   ]
  },
  {
   "cell_type": "code",
   "execution_count": null,
   "metadata": {},
   "outputs": [],
   "source": []
  }
 ],
 "metadata": {
  "kernelspec": {
   "display_name": "Python 2",
   "language": "python",
   "name": "python2"
  },
  "language_info": {
   "codemirror_mode": {
    "name": "ipython",
    "version": 2
   },
   "file_extension": ".py",
   "mimetype": "text/x-python",
   "name": "python",
   "nbconvert_exporter": "python",
   "pygments_lexer": "ipython2",
   "version": "2.7.14"
  }
 },
 "nbformat": 4,
 "nbformat_minor": 1
}
